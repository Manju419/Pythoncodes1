{
 "cells": [
  {
   "cell_type": "markdown",
   "metadata": {},
   "source": [
    "# Day 1 :\n",
    "#Simple Programs\n",
    "\n",
    "**Note: In this Chapter we discuss the python codes with clear explanations like how the program run with input values and how the statements work.**\n",
    "\n",
    "**Let's go ahead .......**\n",
    "# # 1. Positive or Negative number\n",
    "\n",
    "\n"
   ]
  },
  {
   "cell_type": "code",
   "execution_count": 1,
   "metadata": {},
   "outputs": [
    {
     "name": "stdout",
     "output_type": "stream",
     "text": [
      "enter number:5\n",
      "It is positive value\n"
     ]
    }
   ],
   "source": [
    "n=int(input(\"enter number:\"))    # if we write only input() it default store the value as string value not integer value.\n",
    "if(n>0):\n",
    "    print(\"It is positive value\")\n",
    "elif(n<0):\n",
    "    print(\"It is negative value\")\n",
    "else:\n",
    "    print(\"It is zero\")"
   ]
  },
  {
   "cell_type": "markdown",
   "metadata": {},
   "source": [
    "## 2. Even or Odd number"
   ]
  },
  {
   "cell_type": "code",
   "execution_count": 3,
   "metadata": {},
   "outputs": [
    {
     "name": "stdout",
     "output_type": "stream",
     "text": [
      "enter number:6\n",
      "6 is a even number\n"
     ]
    }
   ],
   "source": [
    "n=int(input(\"enter number:\"))\n",
    "if(n%2==0):\n",
    "    print(\"{} is a even number\".format(n))\n",
    "else:\n",
    "    print(\"{} is not odd number\".format(n))"
   ]
  },
  {
   "cell_type": "markdown",
   "metadata": {},
   "source": [
    "## 3.Sum of N number numbers"
   ]
  },
  {
   "cell_type": "code",
   "execution_count": 5,
   "metadata": {},
   "outputs": [
    {
     "name": "stdout",
     "output_type": "stream",
     "text": [
      "enter number:5\n",
      "15 "
     ]
    }
   ],
   "source": [
    "n=int(input(\"enter number:\"))\n",
    "sum1=0\n",
    "for i in range(1,n+1):\n",
    "    sum1=sum1+i\n",
    "print(sum1,end=\" \")"
   ]
  },
  {
   "cell_type": "markdown",
   "metadata": {},
   "source": [
    "## Note1: This program can be done  in another way  let's discuss the below\n",
    "###### Note2: If you want to check the inner process of this program check in the day1 procedure.txt\n",
    "## 3(a). 1+2+3+4+5=15\n",
    "\n"
   ]
  },
  {
   "cell_type": "code",
   "execution_count": 8,
   "metadata": {},
   "outputs": [
    {
     "name": "stdout",
     "output_type": "stream",
     "text": [
      "enter number:5\n",
      "1 + 2 + 3 + 4 + 5 = 15 "
     ]
    }
   ],
   "source": [
    "n=int(input(\"enter number:\"))\n",
    "sum1=0\n",
    "for i in range(1,n):       #line 3   from line 3 to line 9 explanation is given in pdf check if you need.\n",
    "    print(i,'+',end=\" \")\n",
    "    sum1=sum1+i                    \n",
    "for j in range(n,n+1):\n",
    "    print(n,'=',end=\" \")\n",
    "    sum2=sum1+n\n",
    "    print(sum2,end=\" \")         # line 9\n",
    "    "
   ]
  },
  {
   "cell_type": "markdown",
   "metadata": {},
   "source": [
    "## 4. Greatest of two numbers"
   ]
  },
  {
   "cell_type": "code",
   "execution_count": 16,
   "metadata": {},
   "outputs": [
    {
     "name": "stdout",
     "output_type": "stream",
     "text": [
      "enter a value:7\n",
      "enter b value:6\n",
      "a is greater value\n"
     ]
    }
   ],
   "source": [
    "a=int(input(\"enter a value:\"))\n",
    "b=int(input(\"enter b value:\"))\n",
    "if(a>b):\n",
    "    print(\"a is greater value\")\n",
    "else:\n",
    "    print(\"b is greater\")"
   ]
  },
  {
   "cell_type": "markdown",
   "metadata": {},
   "source": [
    "## 5. Greatest among three numbers"
   ]
  },
  {
   "cell_type": "code",
   "execution_count": 17,
   "metadata": {},
   "outputs": [
    {
     "name": "stdout",
     "output_type": "stream",
     "text": [
      "enter a value:4\n",
      "enter b value:8\n",
      "enter c value:5\n",
      " b is greater\n"
     ]
    }
   ],
   "source": [
    "a=int(input(\"enter a value:\"))\n",
    "b=int(input(\"enter b value:\"))\n",
    "c=int(input(\"enter c value:\"))\n",
    "if(a>b) and (a>c):\n",
    "    print(\"a is greater\")\n",
    "elif(b>a) and (b>c):\n",
    "    print(\" b is greater\")\n",
    "else:\n",
    "    print(\"c is greater\")"
   ]
  },
  {
   "cell_type": "markdown",
   "metadata": {},
   "source": [
    "## 6. Leap year or not"
   ]
  },
  {
   "cell_type": "code",
   "execution_count": 22,
   "metadata": {},
   "outputs": [
    {
     "name": "stdout",
     "output_type": "stream",
     "text": [
      "enter year:2000\n",
      "2000 is a leap year\n"
     ]
    }
   ],
   "source": [
    "year=int(input(\"enter year:\"))\n",
    "if year%4==0:\n",
    "    if year%100==0:\n",
    "        if year%400==0:\n",
    "            print(\"{} is a leap year\".format(year))     #line5\n",
    "        else:\n",
    "            print(\"{} is not a leap year\".format(year)) # line7\n",
    "    else:\n",
    "        print(\"{} is a leap year\".format(year))         #line 9\n",
    "else:\n",
    "    print(\"{} is not a leap year\".format(year))       #line11"
   ]
  },
  {
   "cell_type": "markdown",
   "metadata": {},
   "source": [
    "###### Note: If you need to know the process of this program go and check in day1 procedure.txt "
   ]
  },
  {
   "cell_type": "markdown",
   "metadata": {},
   "source": [
    "## 7. Prime number or not"
   ]
  },
  {
   "cell_type": "code",
   "execution_count": 14,
   "metadata": {},
   "outputs": [
    {
     "name": "stdout",
     "output_type": "stream",
     "text": [
      "enter number:11\n",
      "It is prime number\n"
     ]
    }
   ],
   "source": [
    "n=int(input(\"enter number:\"))\n",
    "count=0\n",
    "for i in range(1,n+1):         #line3\n",
    "    if n%i==0:\n",
    "        count=count+1\n",
    "if (count==2):\n",
    "    print(\"It is prime number\")\n",
    "else:\n",
    "    print(\"It is not prime number\")"
   ]
  },
  {
   "cell_type": "markdown",
   "metadata": {},
   "source": [
    "###### Note: If you need to know the process of this program go and check in day1 procedure.txt\n"
   ]
  },
  {
   "cell_type": "markdown",
   "metadata": {},
   "source": [
    "### 7(a).Relatived prime number program but here  it is with in range"
   ]
  },
  {
   "cell_type": "code",
   "execution_count": 15,
   "metadata": {},
   "outputs": [
    {
     "name": "stdout",
     "output_type": "stream",
     "text": [
      "enter start value:2\n",
      "enter end value:20\n",
      "2 3 5 7 11 13 17 19 "
     ]
    }
   ],
   "source": [
    "start=int(input(\"enter start value:\"))\n",
    "end=int(input(\"enter end value:\"))\n",
    "for i in range(start,end+1):                    #line3\n",
    "    for j in range(2,(i//2)+1):\n",
    "        if i%j==0:\n",
    "            break\n",
    "    else:\n",
    "        print(i,end=\" \")                    # line8"
   ]
  },
  {
   "cell_type": "markdown",
   "metadata": {},
   "source": [
    "#### 7(b). print prime numbers\n",
    "**(3,5)**\n",
    "\n",
    "**(5,7)**\n",
    "\n",
    "**(11,13)**\n",
    "\n",
    "**(17,19)**"
   ]
  },
  {
   "cell_type": "code",
   "execution_count": 18,
   "metadata": {},
   "outputs": [
    {
     "name": "stdout",
     "output_type": "stream",
     "text": [
      "20\n",
      "(3,5)\n",
      "(5,7)\n",
      "(11,13)\n",
      "(17,19)\n"
     ]
    }
   ],
   "source": [
    "n=int(input())\n",
    "count=0\n",
    "for i in range(3,n+1):\n",
    "    for j in range(2,(i//2)+1):\n",
    "        if i%j==0:\n",
    "            break\n",
    "    else:\n",
    "        k=i+2\n",
    "        if(k>n):\n",
    "            break\n",
    "        for a in range(2,(k//2)+1):\n",
    "            if k%a==0:\n",
    "                break\n",
    "        else:\n",
    "            print(\"({x},{y})\".format(x=i,y=k))"
   ]
  },
  {
   "cell_type": "markdown",
   "metadata": {},
   "source": [
    "###### Note: Above program is similiar to 7(a) except few statements...\n"
   ]
  },
  {
   "cell_type": "markdown",
   "metadata": {},
   "source": [
    "### 8. Sum of given number\n"
   ]
  },
  {
   "cell_type": "code",
   "execution_count": 19,
   "metadata": {},
   "outputs": [
    {
     "name": "stdout",
     "output_type": "stream",
     "text": [
      "enter number:1234\n",
      "10 "
     ]
    }
   ],
   "source": [
    "n=int(input(\"enter number:\"))\n",
    "sum1=0\n",
    "while(n>0):\n",
    "    r=n%10\n",
    "    sum1=sum1+r\n",
    "    n=n//10\n",
    "print(sum1,end=\" \")"
   ]
  },
  {
   "cell_type": "markdown",
   "metadata": {},
   "source": [
    "###### Note: If you need to know the process of this program go and check in day1 procedure.txt"
   ]
  },
  {
   "cell_type": "code",
   "execution_count": null,
   "metadata": {},
   "outputs": [],
   "source": [
    "s"
   ]
  }
 ],
 "metadata": {
  "kernelspec": {
   "display_name": "Python 3",
   "language": "python",
   "name": "python3"
  },
  "language_info": {
   "codemirror_mode": {
    "name": "ipython",
    "version": 3
   },
   "file_extension": ".py",
   "mimetype": "text/x-python",
   "name": "python",
   "nbconvert_exporter": "python",
   "pygments_lexer": "ipython3",
   "version": "3.7.4"
  }
 },
 "nbformat": 4,
 "nbformat_minor": 2
}
